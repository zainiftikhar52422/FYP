{
  "nbformat": 4,
  "nbformat_minor": 0,
  "metadata": {
    "colab": {
      "name": "Yolo API.ipynb",
      "provenance": [],
      "collapsed_sections": []
    },
    "kernelspec": {
      "name": "python3",
      "display_name": "Python 3"
    }
  },
  "cells": [
    {
      "cell_type": "code",
      "metadata": {
        "id": "7_kYZMKHFweQ",
        "colab": {
          "base_uri": "https://localhost:8080/",
          "height": 34
        },
        "outputId": "0b20a79b-aa8c-46c2-f583-378cf63ee3f5"
      },
      "source": [
        "%cd /content/drive/My Drive/New/Object-Detection-API-master"
      ],
      "execution_count": null,
      "outputs": [
        {
          "output_type": "stream",
          "text": [
            "/content/drive/My Drive/New/Object-Detection-API-master\n"
          ],
          "name": "stdout"
        }
      ]
    },
    {
      "cell_type": "code",
      "metadata": {
        "id": "ussC0NQCGCEC",
        "colab": {
          "base_uri": "https://localhost:8080/"
        },
        "outputId": "93ff5d68-6ea1-4ba8-e422-f8bec490d10a"
      },
      "source": [
        "!pip install -r requirements.txt"
      ],
      "execution_count": 2,
      "outputs": [
        {
          "output_type": "stream",
          "text": [
            "Collecting tensorflow==2.0.3\n",
            "\u001b[?25l  Downloading https://files.pythonhosted.org/packages/a1/c4/ba34ed5c06814944b57bc638c9501dea6be46407e0a7a846b6392fe23e2c/tensorflow-2.0.3-cp37-cp37m-manylinux2010_x86_64.whl (86.4MB)\n",
            "\u001b[K     |████████████████████████████████| 86.4MB 72kB/s \n",
            "\u001b[?25hRequirement already satisfied: numpy in /usr/local/lib/python3.7/dist-packages (from -r requirements.txt (line 2)) (1.19.5)\n",
            "Collecting opencv-python==4.1.1.26\n",
            "\u001b[?25l  Downloading https://files.pythonhosted.org/packages/44/35/6db0fa2e644922533ddc2a3c41d1a86dabefce89d9db85ec31dcc69dc2e3/opencv_python-4.1.1.26-cp37-cp37m-manylinux1_x86_64.whl (28.7MB)\n",
            "\u001b[K     |████████████████████████████████| 28.7MB 155kB/s \n",
            "\u001b[?25hRequirement already satisfied: lxml in /usr/local/lib/python3.7/dist-packages (from -r requirements.txt (line 4)) (4.2.6)\n",
            "Requirement already satisfied: tqdm in /usr/local/lib/python3.7/dist-packages (from -r requirements.txt (line 5)) (4.41.1)\n",
            "Requirement already satisfied: flask in /usr/local/lib/python3.7/dist-packages (from -r requirements.txt (line 6)) (1.1.2)\n",
            "Requirement already satisfied: seaborn in /usr/local/lib/python3.7/dist-packages (from -r requirements.txt (line 7)) (0.11.1)\n",
            "Requirement already satisfied: pillow in /usr/local/lib/python3.7/dist-packages (from -r requirements.txt (line 8)) (7.0.0)\n",
            "Requirement already satisfied: opt-einsum>=2.3.2 in /usr/local/lib/python3.7/dist-packages (from tensorflow==2.0.3->-r requirements.txt (line 1)) (3.3.0)\n",
            "Requirement already satisfied: six>=1.10.0 in /usr/local/lib/python3.7/dist-packages (from tensorflow==2.0.3->-r requirements.txt (line 1)) (1.15.0)\n",
            "Requirement already satisfied: wheel>=0.26; python_version >= \"3\" in /usr/local/lib/python3.7/dist-packages (from tensorflow==2.0.3->-r requirements.txt (line 1)) (0.36.2)\n",
            "Requirement already satisfied: absl-py>=0.7.0 in /usr/local/lib/python3.7/dist-packages (from tensorflow==2.0.3->-r requirements.txt (line 1)) (0.10.0)\n",
            "Requirement already satisfied: protobuf>=3.6.1 in /usr/local/lib/python3.7/dist-packages (from tensorflow==2.0.3->-r requirements.txt (line 1)) (3.12.4)\n",
            "Collecting tensorboard<2.1.0,>=2.0.0\n",
            "\u001b[?25l  Downloading https://files.pythonhosted.org/packages/76/54/99b9d5d52d5cb732f099baaaf7740403e83fe6b0cedde940fabd2b13d75a/tensorboard-2.0.2-py3-none-any.whl (3.8MB)\n",
            "\u001b[K     |████████████████████████████████| 3.8MB 53.5MB/s \n",
            "\u001b[?25hRequirement already satisfied: termcolor>=1.1.0 in /usr/local/lib/python3.7/dist-packages (from tensorflow==2.0.3->-r requirements.txt (line 1)) (1.1.0)\n",
            "Collecting tensorflow-estimator<2.1.0,>=2.0.0\n",
            "\u001b[?25l  Downloading https://files.pythonhosted.org/packages/fc/08/8b927337b7019c374719145d1dceba21a8bb909b93b1ad6f8fb7d22c1ca1/tensorflow_estimator-2.0.1-py2.py3-none-any.whl (449kB)\n",
            "\u001b[K     |████████████████████████████████| 450kB 49.6MB/s \n",
            "\u001b[?25hRequirement already satisfied: wrapt>=1.11.1 in /usr/local/lib/python3.7/dist-packages (from tensorflow==2.0.3->-r requirements.txt (line 1)) (1.12.1)\n",
            "Requirement already satisfied: google-pasta>=0.1.6 in /usr/local/lib/python3.7/dist-packages (from tensorflow==2.0.3->-r requirements.txt (line 1)) (0.2.0)\n",
            "Collecting keras-applications>=1.0.8\n",
            "\u001b[?25l  Downloading https://files.pythonhosted.org/packages/71/e3/19762fdfc62877ae9102edf6342d71b28fbfd9dea3d2f96a882ce099b03f/Keras_Applications-1.0.8-py3-none-any.whl (50kB)\n",
            "\u001b[K     |████████████████████████████████| 51kB 5.1MB/s \n",
            "\u001b[?25hCollecting gast==0.2.2\n",
            "  Downloading https://files.pythonhosted.org/packages/4e/35/11749bf99b2d4e3cceb4d55ca22590b0d7c2c62b9de38ac4a4a7f4687421/gast-0.2.2.tar.gz\n",
            "Requirement already satisfied: keras-preprocessing>=1.0.5 in /usr/local/lib/python3.7/dist-packages (from tensorflow==2.0.3->-r requirements.txt (line 1)) (1.1.2)\n",
            "Requirement already satisfied: astor>=0.6.0 in /usr/local/lib/python3.7/dist-packages (from tensorflow==2.0.3->-r requirements.txt (line 1)) (0.8.1)\n",
            "Requirement already satisfied: grpcio>=1.8.6 in /usr/local/lib/python3.7/dist-packages (from tensorflow==2.0.3->-r requirements.txt (line 1)) (1.32.0)\n",
            "Requirement already satisfied: Werkzeug>=0.15 in /usr/local/lib/python3.7/dist-packages (from flask->-r requirements.txt (line 6)) (1.0.1)\n",
            "Requirement already satisfied: click>=5.1 in /usr/local/lib/python3.7/dist-packages (from flask->-r requirements.txt (line 6)) (7.1.2)\n",
            "Requirement already satisfied: Jinja2>=2.10.1 in /usr/local/lib/python3.7/dist-packages (from flask->-r requirements.txt (line 6)) (2.11.3)\n",
            "Requirement already satisfied: itsdangerous>=0.24 in /usr/local/lib/python3.7/dist-packages (from flask->-r requirements.txt (line 6)) (1.1.0)\n",
            "Requirement already satisfied: pandas>=0.23 in /usr/local/lib/python3.7/dist-packages (from seaborn->-r requirements.txt (line 7)) (1.1.5)\n",
            "Requirement already satisfied: scipy>=1.0 in /usr/local/lib/python3.7/dist-packages (from seaborn->-r requirements.txt (line 7)) (1.4.1)\n",
            "Requirement already satisfied: matplotlib>=2.2 in /usr/local/lib/python3.7/dist-packages (from seaborn->-r requirements.txt (line 7)) (3.2.2)\n",
            "Requirement already satisfied: setuptools in /usr/local/lib/python3.7/dist-packages (from protobuf>=3.6.1->tensorflow==2.0.3->-r requirements.txt (line 1)) (54.0.0)\n",
            "Requirement already satisfied: markdown>=2.6.8 in /usr/local/lib/python3.7/dist-packages (from tensorboard<2.1.0,>=2.0.0->tensorflow==2.0.3->-r requirements.txt (line 1)) (3.3.4)\n",
            "Requirement already satisfied: google-auth<2,>=1.6.3 in /usr/local/lib/python3.7/dist-packages (from tensorboard<2.1.0,>=2.0.0->tensorflow==2.0.3->-r requirements.txt (line 1)) (1.27.1)\n",
            "Requirement already satisfied: requests<3,>=2.21.0 in /usr/local/lib/python3.7/dist-packages (from tensorboard<2.1.0,>=2.0.0->tensorflow==2.0.3->-r requirements.txt (line 1)) (2.23.0)\n",
            "Requirement already satisfied: google-auth-oauthlib<0.5,>=0.4.1 in /usr/local/lib/python3.7/dist-packages (from tensorboard<2.1.0,>=2.0.0->tensorflow==2.0.3->-r requirements.txt (line 1)) (0.4.3)\n",
            "Requirement already satisfied: h5py in /usr/local/lib/python3.7/dist-packages (from keras-applications>=1.0.8->tensorflow==2.0.3->-r requirements.txt (line 1)) (2.10.0)\n",
            "Requirement already satisfied: MarkupSafe>=0.23 in /usr/local/lib/python3.7/dist-packages (from Jinja2>=2.10.1->flask->-r requirements.txt (line 6)) (1.1.1)\n",
            "Requirement already satisfied: pytz>=2017.2 in /usr/local/lib/python3.7/dist-packages (from pandas>=0.23->seaborn->-r requirements.txt (line 7)) (2018.9)\n",
            "Requirement already satisfied: python-dateutil>=2.7.3 in /usr/local/lib/python3.7/dist-packages (from pandas>=0.23->seaborn->-r requirements.txt (line 7)) (2.8.1)\n",
            "Requirement already satisfied: cycler>=0.10 in /usr/local/lib/python3.7/dist-packages (from matplotlib>=2.2->seaborn->-r requirements.txt (line 7)) (0.10.0)\n",
            "Requirement already satisfied: kiwisolver>=1.0.1 in /usr/local/lib/python3.7/dist-packages (from matplotlib>=2.2->seaborn->-r requirements.txt (line 7)) (1.3.1)\n",
            "Requirement already satisfied: pyparsing!=2.0.4,!=2.1.2,!=2.1.6,>=2.0.1 in /usr/local/lib/python3.7/dist-packages (from matplotlib>=2.2->seaborn->-r requirements.txt (line 7)) (2.4.7)\n",
            "Requirement already satisfied: importlib-metadata; python_version < \"3.8\" in /usr/local/lib/python3.7/dist-packages (from markdown>=2.6.8->tensorboard<2.1.0,>=2.0.0->tensorflow==2.0.3->-r requirements.txt (line 1)) (3.7.0)\n",
            "Requirement already satisfied: rsa<5,>=3.1.4; python_version >= \"3.6\" in /usr/local/lib/python3.7/dist-packages (from google-auth<2,>=1.6.3->tensorboard<2.1.0,>=2.0.0->tensorflow==2.0.3->-r requirements.txt (line 1)) (4.7.2)\n",
            "Requirement already satisfied: cachetools<5.0,>=2.0.0 in /usr/local/lib/python3.7/dist-packages (from google-auth<2,>=1.6.3->tensorboard<2.1.0,>=2.0.0->tensorflow==2.0.3->-r requirements.txt (line 1)) (4.2.1)\n",
            "Requirement already satisfied: pyasn1-modules>=0.2.1 in /usr/local/lib/python3.7/dist-packages (from google-auth<2,>=1.6.3->tensorboard<2.1.0,>=2.0.0->tensorflow==2.0.3->-r requirements.txt (line 1)) (0.2.8)\n",
            "Requirement already satisfied: chardet<4,>=3.0.2 in /usr/local/lib/python3.7/dist-packages (from requests<3,>=2.21.0->tensorboard<2.1.0,>=2.0.0->tensorflow==2.0.3->-r requirements.txt (line 1)) (3.0.4)\n",
            "Requirement already satisfied: certifi>=2017.4.17 in /usr/local/lib/python3.7/dist-packages (from requests<3,>=2.21.0->tensorboard<2.1.0,>=2.0.0->tensorflow==2.0.3->-r requirements.txt (line 1)) (2020.12.5)\n",
            "Requirement already satisfied: urllib3!=1.25.0,!=1.25.1,<1.26,>=1.21.1 in /usr/local/lib/python3.7/dist-packages (from requests<3,>=2.21.0->tensorboard<2.1.0,>=2.0.0->tensorflow==2.0.3->-r requirements.txt (line 1)) (1.24.3)\n",
            "Requirement already satisfied: idna<3,>=2.5 in /usr/local/lib/python3.7/dist-packages (from requests<3,>=2.21.0->tensorboard<2.1.0,>=2.0.0->tensorflow==2.0.3->-r requirements.txt (line 1)) (2.10)\n",
            "Requirement already satisfied: requests-oauthlib>=0.7.0 in /usr/local/lib/python3.7/dist-packages (from google-auth-oauthlib<0.5,>=0.4.1->tensorboard<2.1.0,>=2.0.0->tensorflow==2.0.3->-r requirements.txt (line 1)) (1.3.0)\n",
            "Requirement already satisfied: zipp>=0.5 in /usr/local/lib/python3.7/dist-packages (from importlib-metadata; python_version < \"3.8\"->markdown>=2.6.8->tensorboard<2.1.0,>=2.0.0->tensorflow==2.0.3->-r requirements.txt (line 1)) (3.4.1)\n",
            "Requirement already satisfied: typing-extensions>=3.6.4; python_version < \"3.8\" in /usr/local/lib/python3.7/dist-packages (from importlib-metadata; python_version < \"3.8\"->markdown>=2.6.8->tensorboard<2.1.0,>=2.0.0->tensorflow==2.0.3->-r requirements.txt (line 1)) (3.7.4.3)\n",
            "Requirement already satisfied: pyasn1>=0.1.3 in /usr/local/lib/python3.7/dist-packages (from rsa<5,>=3.1.4; python_version >= \"3.6\"->google-auth<2,>=1.6.3->tensorboard<2.1.0,>=2.0.0->tensorflow==2.0.3->-r requirements.txt (line 1)) (0.4.8)\n",
            "Requirement already satisfied: oauthlib>=3.0.0 in /usr/local/lib/python3.7/dist-packages (from requests-oauthlib>=0.7.0->google-auth-oauthlib<0.5,>=0.4.1->tensorboard<2.1.0,>=2.0.0->tensorflow==2.0.3->-r requirements.txt (line 1)) (3.1.0)\n",
            "Building wheels for collected packages: gast\n",
            "  Building wheel for gast (setup.py) ... \u001b[?25l\u001b[?25hdone\n",
            "  Created wheel for gast: filename=gast-0.2.2-cp37-none-any.whl size=7540 sha256=f52bb29093b4d409d4644412c179cfcd326c86bbb31316a389913afe804e95c3\n",
            "  Stored in directory: /root/.cache/pip/wheels/5c/2e/7e/a1d4d4fcebe6c381f378ce7743a3ced3699feb89bcfbdadadd\n",
            "Successfully built gast\n",
            "\u001b[31mERROR: tensorflow 2.0.3 has requirement numpy<1.19.0,>=1.16.0, but you'll have numpy 1.19.5 which is incompatible.\u001b[0m\n",
            "\u001b[31mERROR: tensorflow-probability 0.12.1 has requirement gast>=0.3.2, but you'll have gast 0.2.2 which is incompatible.\u001b[0m\n",
            "\u001b[31mERROR: albumentations 0.1.12 has requirement imgaug<0.2.7,>=0.2.5, but you'll have imgaug 0.2.9 which is incompatible.\u001b[0m\n",
            "Installing collected packages: tensorboard, tensorflow-estimator, keras-applications, gast, tensorflow, opencv-python\n",
            "  Found existing installation: tensorboard 2.4.1\n",
            "    Uninstalling tensorboard-2.4.1:\n",
            "      Successfully uninstalled tensorboard-2.4.1\n",
            "  Found existing installation: tensorflow-estimator 2.4.0\n",
            "    Uninstalling tensorflow-estimator-2.4.0:\n",
            "      Successfully uninstalled tensorflow-estimator-2.4.0\n",
            "  Found existing installation: gast 0.3.3\n",
            "    Uninstalling gast-0.3.3:\n",
            "      Successfully uninstalled gast-0.3.3\n",
            "  Found existing installation: tensorflow 2.4.1\n",
            "    Uninstalling tensorflow-2.4.1:\n",
            "      Successfully uninstalled tensorflow-2.4.1\n",
            "  Found existing installation: opencv-python 4.1.2.30\n",
            "    Uninstalling opencv-python-4.1.2.30:\n",
            "      Successfully uninstalled opencv-python-4.1.2.30\n",
            "Successfully installed gast-0.2.2 keras-applications-1.0.8 opencv-python-4.1.1.26 tensorboard-2.0.2 tensorflow-2.0.3 tensorflow-estimator-2.0.1\n"
          ],
          "name": "stdout"
        }
      ]
    },
    {
      "cell_type": "code",
      "metadata": {
        "id": "whbxfJvTGQcF",
        "colab": {
          "base_uri": "https://localhost:8080/",
          "height": 204
        },
        "outputId": "11fc5668-9819-40d1-de18-1501a5f540f0"
      },
      "source": [
        "!wget https://pjreddie.com/media/files/yolov3.weights -O weights/yolov3.weights"
      ],
      "execution_count": null,
      "outputs": [
        {
          "output_type": "stream",
          "text": [
            "--2020-10-16 06:32:22--  https://pjreddie.com/media/files/yolov3.weights\n",
            "Resolving pjreddie.com (pjreddie.com)... 128.208.4.108\n",
            "Connecting to pjreddie.com (pjreddie.com)|128.208.4.108|:443... connected.\n",
            "HTTP request sent, awaiting response... 200 OK\n",
            "Length: 248007048 (237M) [application/octet-stream]\n",
            "Saving to: ‘weights/yolov3.weights’\n",
            "\n",
            "weights/yolov3.weig 100%[===================>] 236.52M   141KB/s    in 35m 48s \n",
            "\n",
            "2020-10-16 07:08:11 (113 KB/s) - ‘weights/yolov3.weights’ saved [248007048/248007048]\n",
            "\n"
          ],
          "name": "stdout"
        }
      ]
    },
    {
      "cell_type": "code",
      "metadata": {
        "id": "kXQNLAA3GkPw",
        "colab": {
          "base_uri": "https://localhost:8080/",
          "height": 1000
        },
        "outputId": "8a13eb07-c09d-4793-d07f-c46092a3f46d"
      },
      "source": [
        "!python load_weights.py"
      ],
      "execution_count": null,
      "outputs": [
        {
          "output_type": "stream",
          "text": [
            "2020-10-16 14:11:52.942385: I tensorflow/core/platform/cpu_feature_guard.cc:142] Your CPU supports instructions that this TensorFlow binary was not compiled to use: AVX2 FMA\n",
            "2020-10-16 14:11:52.947001: I tensorflow/core/platform/profile_utils/cpu_utils.cc:94] CPU Frequency: 2200000000 Hz\n",
            "2020-10-16 14:11:52.947320: I tensorflow/compiler/xla/service/service.cc:168] XLA service 0x1acebc0 executing computations on platform Host. Devices:\n",
            "2020-10-16 14:11:52.947475: I tensorflow/compiler/xla/service/service.cc:175]   StreamExecutor device (0): Host, Default Version\n",
            "Model: \"yolov3\"\n",
            "__________________________________________________________________________________________________\n",
            "Layer (type)                    Output Shape         Param #     Connected to                     \n",
            "==================================================================================================\n",
            "input (InputLayer)              [(None, None, None,  0                                            \n",
            "__________________________________________________________________________________________________\n",
            "yolo_darknet (Model)            ((None, None, None,  40620640    input[0][0]                      \n",
            "__________________________________________________________________________________________________\n",
            "yolo_conv_0 (Model)             (None, None, None, 5 11024384    yolo_darknet[1][2]               \n",
            "__________________________________________________________________________________________________\n",
            "yolo_conv_1 (Model)             (None, None, None, 2 2957312     yolo_conv_0[1][0]                \n",
            "                                                                 yolo_darknet[1][1]               \n",
            "__________________________________________________________________________________________________\n",
            "yolo_conv_2 (Model)             (None, None, None, 1 741376      yolo_conv_1[1][0]                \n",
            "                                                                 yolo_darknet[1][0]               \n",
            "__________________________________________________________________________________________________\n",
            "yolo_output_0 (Model)           (None, None, None, 3 4984063     yolo_conv_0[1][0]                \n",
            "__________________________________________________________________________________________________\n",
            "yolo_output_1 (Model)           (None, None, None, 3 1312511     yolo_conv_1[1][0]                \n",
            "__________________________________________________________________________________________________\n",
            "yolo_output_2 (Model)           (None, None, None, 3 361471      yolo_conv_2[1][0]                \n",
            "__________________________________________________________________________________________________\n",
            "yolo_boxes_0 (Lambda)           ((None, None, None,  0           yolo_output_0[1][0]              \n",
            "__________________________________________________________________________________________________\n",
            "yolo_boxes_1 (Lambda)           ((None, None, None,  0           yolo_output_1[1][0]              \n",
            "__________________________________________________________________________________________________\n",
            "yolo_boxes_2 (Lambda)           ((None, None, None,  0           yolo_output_2[1][0]              \n",
            "__________________________________________________________________________________________________\n",
            "yolo_nms (Lambda)               ((None, 100, 4), (No 0           yolo_boxes_0[0][0]               \n",
            "                                                                 yolo_boxes_0[0][1]               \n",
            "                                                                 yolo_boxes_0[0][2]               \n",
            "                                                                 yolo_boxes_1[0][0]               \n",
            "                                                                 yolo_boxes_1[0][1]               \n",
            "                                                                 yolo_boxes_1[0][2]               \n",
            "                                                                 yolo_boxes_2[0][0]               \n",
            "                                                                 yolo_boxes_2[0][1]               \n",
            "                                                                 yolo_boxes_2[0][2]               \n",
            "==================================================================================================\n",
            "Total params: 62,001,757\n",
            "Trainable params: 61,949,149\n",
            "Non-trainable params: 52,608\n",
            "__________________________________________________________________________________________________\n",
            "I1016 14:12:00.930345 140202951145344 load_weights.py:19] model created\n",
            "I1016 14:12:01.305142 140202951145344 utils.py:47] yolo_darknet/conv2d bn\n",
            "I1016 14:12:01.308876 140202951145344 utils.py:47] yolo_darknet/conv2d_1 bn\n",
            "I1016 14:12:01.315049 140202951145344 utils.py:47] yolo_darknet/conv2d_2 bn\n",
            "I1016 14:12:01.318099 140202951145344 utils.py:47] yolo_darknet/conv2d_3 bn\n",
            "I1016 14:12:01.533486 140202951145344 utils.py:47] yolo_darknet/conv2d_4 bn\n",
            "I1016 14:12:01.551402 140202951145344 utils.py:47] yolo_darknet/conv2d_5 bn\n",
            "I1016 14:12:01.554562 140202951145344 utils.py:47] yolo_darknet/conv2d_6 bn\n",
            "I1016 14:12:01.558017 140202951145344 utils.py:47] yolo_darknet/conv2d_7 bn\n",
            "I1016 14:12:01.560732 140202951145344 utils.py:47] yolo_darknet/conv2d_8 bn\n",
            "I1016 14:12:01.563699 140202951145344 utils.py:47] yolo_darknet/conv2d_9 bn\n",
            "I1016 14:12:01.569528 140202951145344 utils.py:47] yolo_darknet/conv2d_10 bn\n",
            "I1016 14:12:01.578621 140202951145344 utils.py:47] yolo_darknet/conv2d_11 bn\n",
            "I1016 14:12:01.793944 140202951145344 utils.py:47] yolo_darknet/conv2d_12 bn\n",
            "I1016 14:12:01.798016 140202951145344 utils.py:47] yolo_darknet/conv2d_13 bn\n",
            "I1016 14:12:02.093787 140202951145344 utils.py:47] yolo_darknet/conv2d_14 bn\n",
            "I1016 14:12:02.103502 140202951145344 utils.py:47] yolo_darknet/conv2d_15 bn\n",
            "I1016 14:12:02.109917 140202951145344 utils.py:47] yolo_darknet/conv2d_16 bn\n",
            "I1016 14:12:02.119767 140202951145344 utils.py:47] yolo_darknet/conv2d_17 bn\n",
            "I1016 14:12:02.125019 140202951145344 utils.py:47] yolo_darknet/conv2d_18 bn\n",
            "I1016 14:12:02.128241 140202951145344 utils.py:47] yolo_darknet/conv2d_19 bn\n",
            "I1016 14:12:02.136070 140202951145344 utils.py:47] yolo_darknet/conv2d_20 bn\n",
            "I1016 14:12:02.143361 140202951145344 utils.py:47] yolo_darknet/conv2d_21 bn\n",
            "I1016 14:12:02.154976 140202951145344 utils.py:47] yolo_darknet/conv2d_22 bn\n",
            "I1016 14:12:02.164366 140202951145344 utils.py:47] yolo_darknet/conv2d_23 bn\n",
            "I1016 14:12:02.178910 140202951145344 utils.py:47] yolo_darknet/conv2d_24 bn\n",
            "I1016 14:12:02.188471 140202951145344 utils.py:47] yolo_darknet/conv2d_25 bn\n",
            "I1016 14:12:02.203255 140202951145344 utils.py:47] yolo_darknet/conv2d_26 bn\n",
            "I1016 14:12:02.333469 140202951145344 utils.py:47] yolo_darknet/conv2d_27 bn\n",
            "I1016 14:12:02.337633 140202951145344 utils.py:47] yolo_darknet/conv2d_28 bn\n",
            "I1016 14:12:02.355610 140202951145344 utils.py:47] yolo_darknet/conv2d_29 bn\n",
            "I1016 14:12:02.359477 140202951145344 utils.py:47] yolo_darknet/conv2d_30 bn\n",
            "I1016 14:12:02.405502 140202951145344 utils.py:47] yolo_darknet/conv2d_31 bn\n",
            "I1016 14:12:02.417710 140202951145344 utils.py:47] yolo_darknet/conv2d_32 bn\n",
            "I1016 14:12:02.445422 140202951145344 utils.py:47] yolo_darknet/conv2d_33 bn\n",
            "I1016 14:12:02.456613 140202951145344 utils.py:47] yolo_darknet/conv2d_34 bn\n",
            "I1016 14:12:02.483891 140202951145344 utils.py:47] yolo_darknet/conv2d_35 bn\n",
            "I1016 14:12:02.494932 140202951145344 utils.py:47] yolo_darknet/conv2d_36 bn\n",
            "I1016 14:12:02.524541 140202951145344 utils.py:47] yolo_darknet/conv2d_37 bn\n",
            "I1016 14:12:02.538027 140202951145344 utils.py:47] yolo_darknet/conv2d_38 bn\n",
            "I1016 14:12:02.558127 140202951145344 utils.py:47] yolo_darknet/conv2d_39 bn\n",
            "I1016 14:12:02.570064 140202951145344 utils.py:47] yolo_darknet/conv2d_40 bn\n",
            "I1016 14:12:02.600323 140202951145344 utils.py:47] yolo_darknet/conv2d_41 bn\n",
            "I1016 14:12:02.613298 140202951145344 utils.py:47] yolo_darknet/conv2d_42 bn\n",
            "I1016 14:12:02.640008 140202951145344 utils.py:47] yolo_darknet/conv2d_43 bn\n",
            "I1016 14:12:02.858130 140202951145344 utils.py:47] yolo_darknet/conv2d_44 bn\n",
            "I1016 14:12:02.886843 140202951145344 utils.py:47] yolo_darknet/conv2d_45 bn\n",
            "I1016 14:12:02.982687 140202951145344 utils.py:47] yolo_darknet/conv2d_46 bn\n",
            "I1016 14:12:02.992157 140202951145344 utils.py:47] yolo_darknet/conv2d_47 bn\n",
            "I1016 14:12:03.060611 140202951145344 utils.py:47] yolo_darknet/conv2d_48 bn\n",
            "I1016 14:12:03.068748 140202951145344 utils.py:47] yolo_darknet/conv2d_49 bn\n",
            "I1016 14:12:03.141381 140202951145344 utils.py:47] yolo_darknet/conv2d_50 bn\n",
            "I1016 14:12:03.487363 140202951145344 utils.py:47] yolo_darknet/conv2d_51 bn\n",
            "I1016 14:12:03.737299 140202951145344 utils.py:47] yolo_conv_0/conv2d_52 bn\n",
            "I1016 14:12:03.747020 140202951145344 utils.py:47] yolo_conv_0/conv2d_53 bn\n",
            "I1016 14:12:03.824950 140202951145344 utils.py:47] yolo_conv_0/conv2d_54 bn\n",
            "I1016 14:12:03.917273 140202951145344 utils.py:47] yolo_conv_0/conv2d_55 bn\n",
            "I1016 14:12:04.098785 140202951145344 utils.py:47] yolo_conv_0/conv2d_56 bn\n",
            "I1016 14:12:04.107461 140202951145344 utils.py:47] yolo_output_0/conv2d_57 bn\n",
            "I1016 14:12:04.250786 140202951145344 utils.py:47] yolo_output_0/conv2d_58 bias\n",
            "I1016 14:12:04.263788 140202951145344 utils.py:47] yolo_conv_1/conv2d_59 bn\n",
            "I1016 14:12:04.266625 140202951145344 utils.py:47] yolo_conv_1/conv2d_60 bn\n",
            "I1016 14:12:04.269486 140202951145344 utils.py:47] yolo_conv_1/conv2d_61 bn\n",
            "I1016 14:12:04.284763 140202951145344 utils.py:47] yolo_conv_1/conv2d_62 bn\n",
            "I1016 14:12:04.287631 140202951145344 utils.py:47] yolo_conv_1/conv2d_63 bn\n",
            "I1016 14:12:04.300750 140202951145344 utils.py:47] yolo_conv_1/conv2d_64 bn\n",
            "I1016 14:12:04.303636 140202951145344 utils.py:47] yolo_output_1/conv2d_65 bn\n",
            "I1016 14:12:04.345146 140202951145344 utils.py:47] yolo_output_1/conv2d_66 bias\n",
            "I1016 14:12:04.347920 140202951145344 utils.py:47] yolo_conv_2/conv2d_67 bn\n",
            "I1016 14:12:04.349875 140202951145344 utils.py:47] yolo_conv_2/conv2d_68 bn\n",
            "I1016 14:12:04.351853 140202951145344 utils.py:47] yolo_conv_2/conv2d_69 bn\n",
            "I1016 14:12:04.357529 140202951145344 utils.py:47] yolo_conv_2/conv2d_70 bn\n",
            "I1016 14:12:04.359474 140202951145344 utils.py:47] yolo_conv_2/conv2d_71 bn\n",
            "I1016 14:12:04.363284 140202951145344 utils.py:47] yolo_conv_2/conv2d_72 bn\n",
            "I1016 14:12:04.366701 140202951145344 utils.py:47] yolo_output_2/conv2d_73 bn\n",
            "I1016 14:12:04.374173 140202951145344 utils.py:47] yolo_output_2/conv2d_74 bias\n",
            "I1016 14:12:04.376245 140202951145344 load_weights.py:22] weights loaded\n",
            "I1016 14:12:05.806310 140202951145344 load_weights.py:26] sanity check passed\n",
            "I1016 14:12:06.976616 140202951145344 load_weights.py:29] weights saved\n"
          ],
          "name": "stdout"
        }
      ]
    },
    {
      "cell_type": "code",
      "metadata": {
        "id": "QB2pk56iJjkj",
        "colab": {
          "base_uri": "https://localhost:8080/"
        },
        "outputId": "2560a7bf-8e1f-499f-a57d-994dfde79634"
      },
      "source": [
        "%cd /content/drive/My Drive/New/Object-Detection-API-master"
      ],
      "execution_count": 1,
      "outputs": [
        {
          "output_type": "stream",
          "text": [
            "/content/drive/My Drive/New/Object-Detection-API-master\n"
          ],
          "name": "stdout"
        }
      ]
    },
    {
      "cell_type": "code",
      "metadata": {
        "id": "KATl-9L1uqn5",
        "colab": {
          "base_uri": "https://localhost:8080/"
        },
        "outputId": "c8cfb6b8-3b6f-4663-bac0-8ee09d11bac2"
      },
      "source": [
        "!wget https://bin.equinox.io/c/4VmDzA7iaHb/ngrok-stable-linux-amd64.zip\n",
        "!unzip -o ngrok-stable-linux-amd64.zip"
      ],
      "execution_count": 3,
      "outputs": [
        {
          "output_type": "stream",
          "text": [
            "--2021-03-09 13:58:22--  https://bin.equinox.io/c/4VmDzA7iaHb/ngrok-stable-linux-amd64.zip\n",
            "Resolving bin.equinox.io (bin.equinox.io)... 3.222.240.112, 52.22.246.104, 18.205.129.29, ...\n",
            "Connecting to bin.equinox.io (bin.equinox.io)|3.222.240.112|:443... connected.\n",
            "HTTP request sent, awaiting response... 200 OK\n",
            "Length: 13773305 (13M) [application/octet-stream]\n",
            "Saving to: ‘ngrok-stable-linux-amd64.zip.4’\n",
            "\n",
            "ngrok-stable-linux- 100%[===================>]  13.13M  12.4MB/s    in 1.1s    \n",
            "\n",
            "2021-03-09 13:58:23 (12.4 MB/s) - ‘ngrok-stable-linux-amd64.zip.4’ saved [13773305/13773305]\n",
            "\n",
            "Archive:  ngrok-stable-linux-amd64.zip\n",
            "  inflating: ngrok                   \n"
          ],
          "name": "stdout"
        }
      ]
    },
    {
      "cell_type": "code",
      "metadata": {
        "id": "sGa1Jz5l1H-k"
      },
      "source": [
        "from IPython import get_ipython"
      ],
      "execution_count": 4,
      "outputs": []
    },
    {
      "cell_type": "code",
      "metadata": {
        "id": "APF-TMHq1O4D",
        "colab": {
          "base_uri": "https://localhost:8080/"
        },
        "outputId": "44c51c33-a4f6-425d-c414-eaed6808386a"
      },
      "source": [
        "!pip install flask"
      ],
      "execution_count": 5,
      "outputs": [
        {
          "output_type": "stream",
          "text": [
            "Requirement already satisfied: flask in /usr/local/lib/python3.7/dist-packages (1.1.2)\n",
            "Requirement already satisfied: Jinja2>=2.10.1 in /usr/local/lib/python3.7/dist-packages (from flask) (2.11.3)\n",
            "Requirement already satisfied: itsdangerous>=0.24 in /usr/local/lib/python3.7/dist-packages (from flask) (1.1.0)\n",
            "Requirement already satisfied: click>=5.1 in /usr/local/lib/python3.7/dist-packages (from flask) (7.1.2)\n",
            "Requirement already satisfied: Werkzeug>=0.15 in /usr/local/lib/python3.7/dist-packages (from flask) (1.0.1)\n",
            "Requirement already satisfied: MarkupSafe>=0.23 in /usr/local/lib/python3.7/dist-packages (from Jinja2>=2.10.1->flask) (1.1.1)\n"
          ],
          "name": "stdout"
        }
      ]
    },
    {
      "cell_type": "code",
      "metadata": {
        "id": "1RQNc7W91Tit"
      },
      "source": [
        "import flask\n",
        "from IPython import get_ipython"
      ],
      "execution_count": 6,
      "outputs": []
    },
    {
      "cell_type": "code",
      "metadata": {
        "id": "cs6XgRTG1f64"
      },
      "source": [
        "get_ipython().system_raw('python app.py &')"
      ],
      "execution_count": 7,
      "outputs": []
    },
    {
      "cell_type": "code",
      "metadata": {
        "id": "PI7hErq61tGa"
      },
      "source": [
        "get_ipython().system_raw('./ngrok http 5000 &')"
      ],
      "execution_count": 8,
      "outputs": []
    },
    {
      "cell_type": "code",
      "metadata": {
        "id": "Wpf-N3ow1xjR",
        "colab": {
          "base_uri": "https://localhost:8080/"
        },
        "outputId": "1b07406d-8bd8-491d-95f8-8057ad053dc6"
      },
      "source": [
        "! curl -s http://localhost:4040/api/tunnels | python3 -c \\\n",
        "    \"import sys, json; print(json.load(sys.stdin)['tunnels'][0]['public_url'])\""
      ],
      "execution_count": 9,
      "outputs": [
        {
          "output_type": "stream",
          "text": [
            "https://0122df6e2e4b.ngrok.io\n"
          ],
          "name": "stdout"
        }
      ]
    },
    {
      "cell_type": "code",
      "metadata": {
        "colab": {
          "base_uri": "https://localhost:8080/"
        },
        "id": "4mWvH46uT3JF",
        "outputId": "5783116a-0ab7-4b21-c514-62865704d30a"
      },
      "source": [
        "\n",
        "!pip install flask_ngrok\n",
        "\n",
        "\n",
        "from flask_ngrok import run_with_ngrok"
      ],
      "execution_count": 13,
      "outputs": [
        {
          "output_type": "stream",
          "text": [
            "Requirement already satisfied: flask_ngrok in /usr/local/lib/python3.7/dist-packages (0.0.25)\n",
            "Requirement already satisfied: requests in /usr/local/lib/python3.7/dist-packages (from flask_ngrok) (2.23.0)\n",
            "Requirement already satisfied: Flask>=0.8 in /usr/local/lib/python3.7/dist-packages (from flask_ngrok) (1.1.2)\n",
            "Requirement already satisfied: urllib3!=1.25.0,!=1.25.1,<1.26,>=1.21.1 in /usr/local/lib/python3.7/dist-packages (from requests->flask_ngrok) (1.24.3)\n",
            "Requirement already satisfied: chardet<4,>=3.0.2 in /usr/local/lib/python3.7/dist-packages (from requests->flask_ngrok) (3.0.4)\n",
            "Requirement already satisfied: certifi>=2017.4.17 in /usr/local/lib/python3.7/dist-packages (from requests->flask_ngrok) (2020.12.5)\n",
            "Requirement already satisfied: idna<3,>=2.5 in /usr/local/lib/python3.7/dist-packages (from requests->flask_ngrok) (2.10)\n",
            "Requirement already satisfied: itsdangerous>=0.24 in /usr/local/lib/python3.7/dist-packages (from Flask>=0.8->flask_ngrok) (1.1.0)\n",
            "Requirement already satisfied: Werkzeug>=0.15 in /usr/local/lib/python3.7/dist-packages (from Flask>=0.8->flask_ngrok) (1.0.1)\n",
            "Requirement already satisfied: Jinja2>=2.10.1 in /usr/local/lib/python3.7/dist-packages (from Flask>=0.8->flask_ngrok) (2.11.3)\n",
            "Requirement already satisfied: click>=5.1 in /usr/local/lib/python3.7/dist-packages (from Flask>=0.8->flask_ngrok) (7.1.2)\n",
            "Requirement already satisfied: MarkupSafe>=0.23 in /usr/local/lib/python3.7/dist-packages (from Jinja2>=2.10.1->Flask>=0.8->flask_ngrok) (1.1.1)\n"
          ],
          "name": "stdout"
        }
      ]
    },
    {
      "cell_type": "code",
      "metadata": {
        "id": "Gua_RUGy12Cj",
        "colab": {
          "base_uri": "https://localhost:8080/"
        },
        "outputId": "276b3995-1690-4673-9e8b-b7feec607441"
      },
      "source": [
        "import time\n",
        "from absl import app, logging\n",
        "import cv2\n",
        "import numpy as np\n",
        "import tensorflow as tf\n",
        "from yolov3_tf2.models import (\n",
        "    YoloV3, YoloV3Tiny\n",
        ")\n",
        "from yolov3_tf2.dataset import transform_images, load_tfrecord_dataset\n",
        "from yolov3_tf2.utils import draw_outputs\n",
        "from flask import Flask, request, Response, jsonify, send_from_directory, abort\n",
        "import os\n",
        "\n",
        "# customize your API through the following parameters\n",
        "classes_path = './data/labels/coco.names'\n",
        "weights_path = './weights/yolov3.tf'\n",
        "tiny = False                    # set to True if using a Yolov3 Tiny model\n",
        "size = 416                      # size images are resized to for model\n",
        "output_path = './detections/'   # path to output folder where images with detections are saved\n",
        "num_classes = 80                # number of classes in model\n",
        "\n",
        "# load in weights and classes\n",
        "physical_devices = tf.config.experimental.list_physical_devices('GPU')\n",
        "if len(physical_devices) > 0:\n",
        "    tf.config.experimental.set_memory_growth(physical_devices[0], True)\n",
        "\n",
        "if tiny:\n",
        "    yolo = YoloV3Tiny(classes=num_classes)\n",
        "else:\n",
        "    yolo = YoloV3(classes=num_classes)\n",
        "\n",
        "yolo.load_weights(weights_path).expect_partial()\n",
        "print('weights loaded')\n",
        "\n",
        "class_names = [c.strip() for c in open(classes_path).readlines()]\n",
        "print('classes loaded')\n",
        "\n",
        "# Initialize Flask application\n",
        "app = Flask(__name__)\n",
        "\n",
        "# API that returns JSON with classes found in images\n",
        "\n",
        "\n",
        "run_with_ngrok(app)  \n",
        "@app.route('/detections', methods=['POST'])\n",
        "def get_detections():\n",
        "    raw_images = []\n",
        "    images = request.files.getlist(\"images\")\n",
        "    image_names = []\n",
        "    for image in images:\n",
        "        image_name = image.filename\n",
        "        image_names.append(image_name)\n",
        "        image.save(os.path.join(os.getcwd(), image_name))\n",
        "        img_raw = tf.image.decode_image(\n",
        "            open(image_name, 'rb').read(), channels=3)\n",
        "        raw_images.append(img_raw)\n",
        "        \n",
        "    num = 0\n",
        "    \n",
        "    # create list for final response\n",
        "    response = []\n",
        "\n",
        "    for j in range(len(raw_images)):\n",
        "        # create list of responses for current image\n",
        "        responses = []\n",
        "        raw_img = raw_images[j]\n",
        "        num+=1\n",
        "        img = tf.expand_dims(raw_img, 0)\n",
        "        img = transform_images(img, size)\n",
        "\n",
        "        t1 = time.time()\n",
        "        boxes, scores, classes, nums = yolo(img)\n",
        "        t2 = time.time()\n",
        "        print('time: {}'.format(t2 - t1))\n",
        "\n",
        "        print('detections:')\n",
        "        for i in range(nums[0]):\n",
        "            print('\\t{}, {}, {}'.format(class_names[int(classes[0][i])],\n",
        "                                            np.array(scores[0][i]),\n",
        "                                            np.array(boxes[0][i])))\n",
        "            responses.append({\n",
        "                \"class\": class_names[int(classes[0][i])],\n",
        "                \"confidence\": float(\"{0:.2f}\".format(np.array(scores[0][i])*100))\n",
        "            })\n",
        "        response.append({\n",
        "            \"image\": image_names[j],\n",
        "            \"detections\": responses\n",
        "        })\n",
        "        img = cv2.cvtColor(raw_img.numpy(), cv2.COLOR_RGB2BGR)\n",
        "        img = draw_outputs(img, (boxes, scores, classes, nums), class_names)\n",
        "        cv2.imwrite(output_path + 'detection' + str(num) + '.jpg', img)\n",
        "        print('output saved to: {}'.format(output_path + 'detection' + str(num) + '.jpg'))\n",
        "\n",
        "    #remove temporary images\n",
        "    for name in image_names:\n",
        "        os.remove(name)\n",
        "    try:\n",
        "        return jsonify({\"response\":response}), 200\n",
        "    except FileNotFoundError:\n",
        "        abort(404)\n",
        "\n",
        "# API that returns image with detections on it\n",
        "@app.route('/image', methods= ['POST'])\n",
        "def get_image():\n",
        "    image = request.files[\"images\"]\n",
        "    image_name = image.filename\n",
        "    image.save(os.path.join(os.getcwd(), image_name))\n",
        "    img_raw = tf.image.decode_image(\n",
        "        open(image_name, 'rb').read(), channels=3)\n",
        "    img = tf.expand_dims(img_raw, 0)\n",
        "    img = transform_images(img, size)\n",
        "\n",
        "    t1 = time.time()\n",
        "    boxes, scores, classes, nums = yolo(img)\n",
        "    t2 = time.time()\n",
        "    print('time: {}'.format(t2 - t1))\n",
        "\n",
        "    print('detections:')\n",
        "    for i in range(nums[0]):\n",
        "        print('\\t{}, {}, {}'.format(class_names[int(classes[0][i])],\n",
        "                                        np.array(scores[0][i]),\n",
        "                                        np.array(boxes[0][i])))\n",
        "    img = cv2.cvtColor(img_raw.numpy(), cv2.COLOR_RGB2BGR)\n",
        "    img = draw_outputs(img, (boxes, scores, classes, nums), class_names)\n",
        "    cv2.imwrite(output_path + 'detection.jpg', img)\n",
        "    print('output saved to: {}'.format(output_path + 'detection.jpg'))\n",
        "    \n",
        "    # prepare image for response\n",
        "    _, img_encoded = cv2.imencode('.png', img)\n",
        "    response = img_encoded.tostring()\n",
        "    \n",
        "    #remove temporary image\n",
        "    os.remove(image_name)\n",
        "\n",
        "    try:\n",
        "        return Response(response=response, status=200, mimetype='image/png')\n",
        "    except FileNotFoundError:\n",
        "        abort(404)\n",
        "if __name__ == '__main__':\n",
        "    app.run()\n",
        "    #debug=True, host = '0.0.0.0', port=5000"
      ],
      "execution_count": null,
      "outputs": [
        {
          "output_type": "stream",
          "text": [
            "weights loaded\n",
            "classes loaded\n",
            " * Serving Flask app \"__main__\" (lazy loading)\n",
            " * Environment: production\n",
            "\u001b[31m   WARNING: This is a development server. Do not use it in a production deployment.\u001b[0m\n",
            "\u001b[2m   Use a production WSGI server instead.\u001b[0m\n",
            " * Debug mode: off\n"
          ],
          "name": "stdout"
        },
        {
          "output_type": "stream",
          "text": [
            " * Running on http://127.0.0.1:5000/ (Press CTRL+C to quit)\n"
          ],
          "name": "stderr"
        },
        {
          "output_type": "stream",
          "text": [
            " * Running on http://cf577bc0d699.ngrok.io\n",
            " * Traffic stats available on http://127.0.0.1:4040\n"
          ],
          "name": "stdout"
        },
        {
          "output_type": "stream",
          "text": [
            "127.0.0.1 - - [09/Mar/2021 14:08:22] \"\u001b[33mGET / HTTP/1.1\u001b[0m\" 404 -\n",
            "127.0.0.1 - - [09/Mar/2021 14:09:59] \"\u001b[31m\u001b[1mGET /detections HTTP/1.1\u001b[0m\" 405 -\n",
            "127.0.0.1 - - [09/Mar/2021 14:10:11] \"\u001b[37mPOST /detections HTTP/1.1\u001b[0m\" 200 -\n",
            "127.0.0.1 - - [09/Mar/2021 14:12:40] \"\u001b[33mPOST /img HTTP/1.1\u001b[0m\" 404 -\n",
            "127.0.0.1 - - [09/Mar/2021 14:12:48] \"\u001b[33mGET /img HTTP/1.1\u001b[0m\" 404 -\n",
            "127.0.0.1 - - [09/Mar/2021 14:13:13] \"\u001b[33mPOST /img HTTP/1.1\u001b[0m\" 404 -\n",
            "127.0.0.1 - - [09/Mar/2021 14:13:38] \"\u001b[33mPOST /img HTTP/1.1\u001b[0m\" 404 -\n",
            "127.0.0.1 - - [09/Mar/2021 14:14:42] \"\u001b[31m\u001b[1mPOST /image HTTP/1.1\u001b[0m\" 400 -\n",
            "127.0.0.1 - - [09/Mar/2021 14:15:08] \"\u001b[33mPOST /detection HTTP/1.1\u001b[0m\" 404 -\n",
            "127.0.0.1 - - [09/Mar/2021 14:15:21] \"\u001b[37mPOST /detections HTTP/1.1\u001b[0m\" 200 -\n",
            "127.0.0.1 - - [09/Mar/2021 14:16:27] \"\u001b[31m\u001b[1mPOST /image HTTP/1.1\u001b[0m\" 400 -\n",
            "127.0.0.1 - - [09/Mar/2021 14:16:32] \"\u001b[31m\u001b[1mGET /image HTTP/1.1\u001b[0m\" 405 -\n"
          ],
          "name": "stderr"
        },
        {
          "output_type": "stream",
          "text": [
            "time: 2.011751651763916\n",
            "detections:\n"
          ],
          "name": "stdout"
        },
        {
          "output_type": "stream",
          "text": [
            "/usr/local/lib/python3.7/dist-packages/ipykernel_launcher.py:130: DeprecationWarning: tostring() is deprecated. Use tobytes() instead.\n",
            "127.0.0.1 - - [09/Mar/2021 14:17:01] \"\u001b[37mPOST /image HTTP/1.1\u001b[0m\" 200 -\n"
          ],
          "name": "stderr"
        },
        {
          "output_type": "stream",
          "text": [
            "output saved to: ./detections/detection.jpg\n",
            "time: 1.6730430126190186\n",
            "detections:\n",
            "\thorse, 0.9950188994407654, [0.20350093 0.0464673  0.9779596  0.943118  ]\n",
            "\thorse, 0.9284881353378296, [0.02258644 0.04818207 0.53483367 0.91256887]\n"
          ],
          "name": "stdout"
        },
        {
          "output_type": "stream",
          "text": [
            "127.0.0.1 - - [09/Mar/2021 14:18:37] \"\u001b[37mPOST /detections HTTP/1.1\u001b[0m\" 200 -\n"
          ],
          "name": "stderr"
        },
        {
          "output_type": "stream",
          "text": [
            "output saved to: ./detections/detection1.jpg\n"
          ],
          "name": "stdout"
        },
        {
          "output_type": "stream",
          "text": [
            "127.0.0.1 - - [09/Mar/2021 14:19:06] \"\u001b[37mPOST /image HTTP/1.1\u001b[0m\" 200 -\n"
          ],
          "name": "stderr"
        },
        {
          "output_type": "stream",
          "text": [
            "time: 1.6626403331756592\n",
            "detections:\n",
            "\thorse, 0.9950188994407654, [0.20350093 0.0464673  0.9779596  0.943118  ]\n",
            "\thorse, 0.9284881353378296, [0.02258644 0.04818207 0.53483367 0.91256887]\n",
            "output saved to: ./detections/detection.jpg\n"
          ],
          "name": "stdout"
        }
      ]
    },
    {
      "cell_type": "code",
      "metadata": {
        "id": "__ohevAE2QXj"
      },
      "source": [
        ""
      ],
      "execution_count": null,
      "outputs": []
    },
    {
      "cell_type": "code",
      "metadata": {
        "id": "9ltf11QW29QZ",
        "colab": {
          "base_uri": "https://localhost:8080/",
          "height": 1000
        },
        "outputId": "dfff6552-56ca-42f3-c03a-52941c779bc0"
      },
      "source": [
        "!python app.py"
      ],
      "execution_count": null,
      "outputs": [
        {
          "output_type": "stream",
          "text": [
            "2020-10-20 17:39:36.576925: I tensorflow/stream_executor/platform/default/dso_loader.cc:48] Successfully opened dynamic library libcudart.so.10.1\n",
            "2020-10-20 17:39:38.925246: I tensorflow/stream_executor/platform/default/dso_loader.cc:48] Successfully opened dynamic library libcuda.so.1\n",
            "2020-10-20 17:39:38.935491: E tensorflow/stream_executor/cuda/cuda_driver.cc:314] failed call to cuInit: CUDA_ERROR_NO_DEVICE: no CUDA-capable device is detected\n",
            "2020-10-20 17:39:38.935551: I tensorflow/stream_executor/cuda/cuda_diagnostics.cc:156] kernel driver does not appear to be running on this host (18ec181b2b38): /proc/driver/nvidia/version does not exist\n",
            "2020-10-20 17:39:38.958088: I tensorflow/core/platform/cpu_feature_guard.cc:142] This TensorFlow binary is optimized with oneAPI Deep Neural Network Library (oneDNN)to use the following CPU instructions in performance-critical operations:  AVX512F\n",
            "To enable them in other operations, rebuild TensorFlow with the appropriate compiler flags.\n",
            "2020-10-20 17:39:38.964247: I tensorflow/core/platform/profile_utils/cpu_utils.cc:104] CPU Frequency: 2000179999 Hz\n",
            "2020-10-20 17:39:38.964509: I tensorflow/compiler/xla/service/service.cc:168] XLA service 0x21bd100 initialized for platform Host (this does not guarantee that XLA will be used). Devices:\n",
            "2020-10-20 17:39:38.964552: I tensorflow/compiler/xla/service/service.cc:176]   StreamExecutor device (0): Host, Default Version\n",
            "weights loaded\n",
            "classes loaded\n",
            " * Serving Flask app \"app\" (lazy loading)\n",
            " * Environment: production\n",
            "\u001b[31m   WARNING: This is a development server. Do not use it in a production deployment.\u001b[0m\n",
            "\u001b[2m   Use a production WSGI server instead.\u001b[0m\n",
            " * Debug mode: on\n",
            " * Running on http://0.0.0.0:5000/ (Press CTRL+C to quit)\n",
            " * Restarting with stat\n",
            "2020-10-20 17:39:43.982670: I tensorflow/stream_executor/platform/default/dso_loader.cc:48] Successfully opened dynamic library libcudart.so.10.1\n",
            "2020-10-20 17:39:46.311251: I tensorflow/stream_executor/platform/default/dso_loader.cc:48] Successfully opened dynamic library libcuda.so.1\n",
            "2020-10-20 17:39:46.321147: E tensorflow/stream_executor/cuda/cuda_driver.cc:314] failed call to cuInit: CUDA_ERROR_NO_DEVICE: no CUDA-capable device is detected\n",
            "2020-10-20 17:39:46.321212: I tensorflow/stream_executor/cuda/cuda_diagnostics.cc:156] kernel driver does not appear to be running on this host (18ec181b2b38): /proc/driver/nvidia/version does not exist\n",
            "2020-10-20 17:39:46.342519: I tensorflow/core/platform/cpu_feature_guard.cc:142] This TensorFlow binary is optimized with oneAPI Deep Neural Network Library (oneDNN)to use the following CPU instructions in performance-critical operations:  AVX512F\n",
            "To enable them in other operations, rebuild TensorFlow with the appropriate compiler flags.\n",
            "2020-10-20 17:39:46.348622: I tensorflow/core/platform/profile_utils/cpu_utils.cc:104] CPU Frequency: 2000179999 Hz\n",
            "2020-10-20 17:39:46.348862: I tensorflow/compiler/xla/service/service.cc:168] XLA service 0x1bb1100 initialized for platform Host (this does not guarantee that XLA will be used). Devices:\n",
            "2020-10-20 17:39:46.348901: I tensorflow/compiler/xla/service/service.cc:176]   StreamExecutor device (0): Host, Default Version\n",
            "weights loaded\n",
            "classes loaded\n",
            " * Debugger is active!\n",
            " * Debugger PIN: 243-309-275\n",
            "time: 1.138702392578125\n",
            "detections:\n",
            "\tperson, 0.9991266131401062, [0.07244112 0.19064197 0.19863114 0.7138722 ]\n",
            "\tperson, 0.9984781742095947, [0.27574348 0.51315296 0.42745966 0.9713074 ]\n",
            "\tperson, 0.9975196123123169, [0.76850957 0.23878035 0.9509981  0.8890867 ]\n",
            "\tperson, 0.99241042137146, [0.44312656 0.4303011  0.6019039  0.97409415]\n",
            "\tperson, 0.9919427633285522, [0.37697715 0.20293781 0.5917795  0.9365994 ]\n",
            "\tperson, 0.9673174023628235, [0.4746113  0.21126343 0.5531557  0.33988118]\n",
            "\tperson, 0.965977668762207, [0.9097083  0.25059003 1.         0.8541375 ]\n",
            "\tperson, 0.9491705298423767, [0.74905676 0.34929898 0.7958074  0.61119795]\n",
            "\tperson, 0.9373375177383423, [0.00192183 0.3850631  0.12105796 0.95597535]\n",
            "\tperson, 0.8902662992477417, [0.31025213 0.22557905 0.39777768 0.5146023 ]\n",
            "\tperson, 0.8725268244743347, [0.         0.2671275  0.05492939 0.45092082]\n",
            "\thorse, 0.8193410634994507, [0.55997056 0.29886967 0.7041628  0.89379627]\n",
            "\tperson, 0.7709060311317444, [0.27386746 0.14569944 0.31424323 0.26380867]\n",
            "\tperson, 0.7697350978851318, [0.654005   0.25034145 0.754541   0.64099824]\n",
            "\tcow, 0.7570944428443909, [0.17518613 0.34182334 0.33757392 0.77471554]\n",
            "\tperson, 0.5659899711608887, [0.79277104 0.23956731 0.83484596 0.32440528]\n",
            "\tperson, 0.5495796799659729, [0.19436078 0.14296196 0.24364181 0.28027838]\n",
            "\tperson, 0.5274402499198914, [0.89554733 0.2821184  0.9360121  0.36132976]\n",
            "output saved to: ./detections/detection1.jpg\n",
            "127.0.0.1 - - [20/Oct/2020 17:40:15] \"\u001b[37mPOST /detections HTTP/1.1\u001b[0m\" 200 -\n",
            "127.0.0.1 - - [20/Oct/2020 17:40:25] \"\u001b[33mPOST /images HTTP/1.1\u001b[0m\" 404 -\n",
            "time: 1.0699164867401123\n",
            "detections:\n",
            "\tperson, 0.9991266131401062, [0.07244112 0.19064197 0.19863114 0.7138722 ]\n",
            "\tperson, 0.9984781742095947, [0.27574348 0.51315296 0.42745966 0.9713074 ]\n",
            "\tperson, 0.9975196123123169, [0.76850957 0.23878035 0.9509981  0.8890867 ]\n",
            "\tperson, 0.99241042137146, [0.44312656 0.4303011  0.6019039  0.97409415]\n",
            "\tperson, 0.9919427633285522, [0.37697715 0.20293781 0.5917795  0.9365994 ]\n",
            "\tperson, 0.9673174023628235, [0.4746113  0.21126343 0.5531557  0.33988118]\n",
            "\tperson, 0.965977668762207, [0.9097083  0.25059003 1.         0.8541375 ]\n",
            "\tperson, 0.9491705298423767, [0.74905676 0.34929898 0.7958074  0.61119795]\n",
            "\tperson, 0.9373375177383423, [0.00192183 0.3850631  0.12105796 0.95597535]\n",
            "\tperson, 0.8902662992477417, [0.31025213 0.22557905 0.39777768 0.5146023 ]\n",
            "\tperson, 0.8725268244743347, [0.         0.2671275  0.05492939 0.45092082]\n",
            "\thorse, 0.8193410634994507, [0.55997056 0.29886967 0.7041628  0.89379627]\n",
            "\tperson, 0.7709060311317444, [0.27386746 0.14569944 0.31424323 0.26380867]\n",
            "\tperson, 0.7697350978851318, [0.654005   0.25034145 0.754541   0.64099824]\n",
            "\tcow, 0.7570944428443909, [0.17518613 0.34182334 0.33757392 0.77471554]\n",
            "\tperson, 0.5659899711608887, [0.79277104 0.23956731 0.83484596 0.32440528]\n",
            "\tperson, 0.5495796799659729, [0.19436078 0.14296196 0.24364181 0.28027838]\n",
            "\tperson, 0.5274402499198914, [0.89554733 0.2821184  0.9360121  0.36132976]\n",
            "output saved to: ./detections/detection.jpg\n",
            "127.0.0.1 - - [20/Oct/2020 17:40:32] \"\u001b[37mPOST /image HTTP/1.1\u001b[0m\" 200 -\n",
            "127.0.0.1 - - [20/Oct/2020 18:12:41] \"\u001b[37mPOST /detections HTTP/1.1\u001b[0m\" 200 -\n",
            "127.0.0.1 - - [20/Oct/2020 18:13:14] \"\u001b[37mPOST /detections HTTP/1.1\u001b[0m\" 200 -\n",
            "127.0.0.1 - - [20/Oct/2020 18:15:24] \"\u001b[37mPOST /detections HTTP/1.1\u001b[0m\" 200 -\n",
            "127.0.0.1 - - [20/Oct/2020 18:15:51] \"\u001b[37mPOST /detections HTTP/1.1\u001b[0m\" 200 -\n",
            "127.0.0.1 - - [20/Oct/2020 18:18:39] \"\u001b[37mPOST /detections HTTP/1.1\u001b[0m\" 200 -\n",
            "127.0.0.1 - - [20/Oct/2020 18:19:02] \"\u001b[35m\u001b[1mPOST /image HTTP/1.1\u001b[0m\" 500 -\n",
            "Traceback (most recent call last):\n",
            "  File \"/usr/local/lib/python3.6/dist-packages/flask/app.py\", line 2464, in __call__\n",
            "    return self.wsgi_app(environ, start_response)\n",
            "  File \"/usr/local/lib/python3.6/dist-packages/flask/app.py\", line 2450, in wsgi_app\n",
            "    response = self.handle_exception(e)\n",
            "  File \"/usr/local/lib/python3.6/dist-packages/flask/app.py\", line 1867, in handle_exception\n",
            "    reraise(exc_type, exc_value, tb)\n",
            "  File \"/usr/local/lib/python3.6/dist-packages/flask/_compat.py\", line 39, in reraise\n",
            "    raise value\n",
            "  File \"/usr/local/lib/python3.6/dist-packages/flask/app.py\", line 2447, in wsgi_app\n",
            "    response = self.full_dispatch_request()\n",
            "  File \"/usr/local/lib/python3.6/dist-packages/flask/app.py\", line 1952, in full_dispatch_request\n",
            "    rv = self.handle_user_exception(e)\n",
            "  File \"/usr/local/lib/python3.6/dist-packages/flask/app.py\", line 1821, in handle_user_exception\n",
            "    reraise(exc_type, exc_value, tb)\n",
            "  File \"/usr/local/lib/python3.6/dist-packages/flask/_compat.py\", line 39, in reraise\n",
            "    raise value\n",
            "  File \"/usr/local/lib/python3.6/dist-packages/flask/app.py\", line 1950, in full_dispatch_request\n",
            "    rv = self.dispatch_request()\n",
            "  File \"/usr/local/lib/python3.6/dist-packages/flask/app.py\", line 1936, in dispatch_request\n",
            "    return self.view_functions[rule.endpoint](**req.view_args)\n",
            "  File \"/content/drive/My Drive/New/Object-Detection-API-master/app.py\", line 102, in get_image\n",
            "    image = request.files[\"images\"]\n",
            "  File \"/usr/local/lib/python3.6/dist-packages/flask/debughelpers.py\", line 96, in __getitem__\n",
            "    return oldcls.__getitem__(self, key)\n",
            "  File \"/usr/local/lib/python3.6/dist-packages/werkzeug/datastructures.py\", line 442, in __getitem__\n",
            "    raise exceptions.BadRequestKeyError(key)\n",
            "werkzeug.exceptions.BadRequestKeyError: 400 Bad Request: The browser (or proxy) sent a request that this server could not understand.\n",
            "KeyError: 'images'\n",
            "127.0.0.1 - - [20/Oct/2020 18:19:36] \"\u001b[37mPOST /detections HTTP/1.1\u001b[0m\" 200 -\n",
            "127.0.0.1 - - [20/Oct/2020 18:20:27] \"\u001b[35m\u001b[1mPOST /image HTTP/1.1\u001b[0m\" 500 -\n",
            "Traceback (most recent call last):\n",
            "  File \"/usr/local/lib/python3.6/dist-packages/flask/app.py\", line 2464, in __call__\n",
            "    return self.wsgi_app(environ, start_response)\n",
            "  File \"/usr/local/lib/python3.6/dist-packages/flask/app.py\", line 2450, in wsgi_app\n",
            "    response = self.handle_exception(e)\n",
            "  File \"/usr/local/lib/python3.6/dist-packages/flask/app.py\", line 1867, in handle_exception\n",
            "    reraise(exc_type, exc_value, tb)\n",
            "  File \"/usr/local/lib/python3.6/dist-packages/flask/_compat.py\", line 39, in reraise\n",
            "    raise value\n",
            "  File \"/usr/local/lib/python3.6/dist-packages/flask/app.py\", line 2447, in wsgi_app\n",
            "    response = self.full_dispatch_request()\n",
            "  File \"/usr/local/lib/python3.6/dist-packages/flask/app.py\", line 1952, in full_dispatch_request\n",
            "    rv = self.handle_user_exception(e)\n",
            "  File \"/usr/local/lib/python3.6/dist-packages/flask/app.py\", line 1821, in handle_user_exception\n",
            "    reraise(exc_type, exc_value, tb)\n",
            "  File \"/usr/local/lib/python3.6/dist-packages/flask/_compat.py\", line 39, in reraise\n",
            "    raise value\n",
            "  File \"/usr/local/lib/python3.6/dist-packages/flask/app.py\", line 1950, in full_dispatch_request\n",
            "    rv = self.dispatch_request()\n",
            "  File \"/usr/local/lib/python3.6/dist-packages/flask/app.py\", line 1936, in dispatch_request\n",
            "    return self.view_functions[rule.endpoint](**req.view_args)\n",
            "  File \"/content/drive/My Drive/New/Object-Detection-API-master/app.py\", line 102, in get_image\n",
            "    image = request.files[\"images\"]\n",
            "  File \"/usr/local/lib/python3.6/dist-packages/flask/debughelpers.py\", line 96, in __getitem__\n",
            "    return oldcls.__getitem__(self, key)\n",
            "  File \"/usr/local/lib/python3.6/dist-packages/werkzeug/datastructures.py\", line 442, in __getitem__\n",
            "    raise exceptions.BadRequestKeyError(key)\n",
            "werkzeug.exceptions.BadRequestKeyError: 400 Bad Request: The browser (or proxy) sent a request that this server could not understand.\n",
            "KeyError: 'images'\n",
            "127.0.0.1 - - [20/Oct/2020 18:20:40] \"\u001b[37mPOST /detections HTTP/1.1\u001b[0m\" 200 -\n"
          ],
          "name": "stdout"
        }
      ]
    },
    {
      "cell_type": "code",
      "metadata": {
        "id": "8RnT4YmD5sB9"
      },
      "source": [
        ""
      ],
      "execution_count": null,
      "outputs": []
    }
  ]
}