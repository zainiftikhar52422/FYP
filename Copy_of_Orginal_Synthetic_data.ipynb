{
  "nbformat": 4,
  "nbformat_minor": 0,
  "metadata": {
    "colab": {
      "name": "Copy of Orginal Synthetic data",
      "provenance": [],
      "collapsed_sections": [],
      "toc_visible": true
    },
    "kernelspec": {
      "name": "python3",
      "display_name": "Python 3"
    }
  },
  "cells": [
    {
      "cell_type": "code",
      "metadata": {
        "id": "fHQZS9cg77aD"
      },
      "source": [
        "% cd /content/drive/MyDrive/anotate/OBJ_dataset"
      ],
      "execution_count": null,
      "outputs": []
    },
    {
      "cell_type": "code",
      "metadata": {
        "id": "YM_ENyMS8akK"
      },
      "source": [
        "! wget \"https://www.dmu-net.org/zip_files/DMUNet_OBJ_format.zip\""
      ],
      "execution_count": null,
      "outputs": []
    },
    {
      "cell_type": "code",
      "metadata": {
        "id": "uHXRpj-T8ezI"
      },
      "source": [
        " !unzip dmu.zip"
      ],
      "execution_count": null,
      "outputs": []
    },
    {
      "cell_type": "code",
      "metadata": {
        "colab": {
          "base_uri": "https://localhost:8080/"
        },
        "id": "8ONHD7IxUnR-",
        "outputId": "1ace4aeb-2d41-401b-df73-88f91d78a36b"
      },
      "source": [
        "import os\n",
        "import numpy as np\n",
        "import skimage.io as io\n",
        "import skimage.transform as transform\n",
        "import matplotlib.pyplot as plt\n",
        "from matplotlib.patches import Rectangle\n",
        "%matplotlib inline\n",
        "io.use_plugin('pil')\n",
        "from PIL import Image\n",
        "import os\n",
        "import random\n",
        "\n",
        "raw_image_path=\"/content/drive/MyDrive/anotate/OBJ_dataset/Actuator\"\n",
        "backgroud_folder_path=\"/content/drive/MyDrive/anotate/OBJ_dataset/background\"\n",
        "saved_path=\"/content/drive/MyDrive/anotate/OBJ_dataset/Actuator_Back\"\n",
        "synthatic_image_name=\"ACT\"\n",
        "saved_folder_name=\"Actuator_Back\"\n",
        "!mkdir \"/content/drive/MyDrive/anotate/OBJ_dataset/Actuator_Back\"\n",
        "\n",
        "\n",
        "for i in filee:\n",
        "  I = io.imread(i)/255.0\n",
        "  # Cut out the foreground layer\n",
        "  foreground = I.copy()\n",
        "  foreground[foreground>=0.9]=0 # Setting surrounding pixels to zero\n",
        "\n",
        "\n",
        "\n",
        "  ### Apply augmentations on the foreground.\n",
        "\n",
        "  def foregroundAug(foreground):\n",
        "      # Random rotation, zoom, translation\n",
        "      angle = np.random.randint(-10,10)*(np.pi/180.0) # Convert to radians\n",
        "      zoom = np.random.random()*0.4 + 0.8 # Zoom in range [0.8,1.2)\n",
        "      t_x = np.random.randint(0, int(foreground.shape[1]/3))\n",
        "      t_y = np.random.randint(0, int(foreground.shape[0]/3))\n",
        "\n",
        "      tform = transform.AffineTransform(scale=(0.6,0.6),\n",
        "                                  rotation=angle,\n",
        "                                  translation=(t_x, t_y))\n",
        "      foreground = transform.warp(foreground, tform.inverse)\n",
        "\n",
        "      # Random horizontal flip with 0.5 probability\n",
        "      if(np.random.randint(0,100)>=50):\n",
        "          foreground = foreground[:, ::-1]\n",
        "          \n",
        "      return foreground\n",
        "\n",
        "  foreground_new = foregroundAug(foreground)\n",
        "  io.imsave(\"fname.jpg\", foreground_new)\n",
        "\n",
        "\n",
        "\n",
        "  # Create a mask for this new foreground object\n",
        "  def getForegroundMask(foreground):\n",
        "      mask_new = foreground.copy()[:,:,0]\n",
        "      mask_new[mask_new>0] = 1\n",
        "      return mask_new\n",
        "\n",
        "  mask_new = getForegroundMask(foreground_new)\n",
        "  io.imsave(\"mask_new.jpg\", mask_new)\n",
        "  #plt.imshow(mask_new)\n",
        "  #plt.axis('on')\n",
        "  #plt.show()\n",
        "\n",
        "\n",
        "  \n",
        "\n",
        "  background_list=list(())\n",
        "  for subdir, dirs, files in os.walk(backgroud_folder_path):\n",
        "      for file in files:\n",
        "          #print os.path.join(subdir, file)\n",
        "          filepath = subdir + os.sep + file\n",
        "\n",
        "          if filepath.endswith(\".jpg\"):\n",
        "              background_list.append(filepath)\n",
        "\n",
        "  for i in background_list:\n",
        "      nam=(random.randint(0,11000))\n",
        "      background = Image.open(i)\n",
        "\n",
        "      foreground = Image.open('fname.jpg')\n",
        "      mask_im=Image.open('mask_new.jpg')\n",
        "      #back_im = im1.copy()\n",
        "      background.paste(foreground, (0, 0),mask_im)\n",
        "\n",
        "      background.save((saved_path+\"/\"+ synthatic_image_name + str(nam) +'.jpg'), quality=95)\n",
        "\n",
        "      nz = np.nonzero(mask_im)\n",
        "      bbox = [np.min(nz[0]), np.min(nz[1]), np.max(nz[0]), np.max(nz[1])]\n",
        "\n",
        "      width, height = background.size\n",
        "\n",
        "      import xml.etree.cElementTree as ET\n",
        "\n",
        "      root = ET.Element('annotation')\n",
        "\n",
        "      ET.SubElement(root, 'folder').text = saved_folder_name # set correct folder name\n",
        "      ET.SubElement(root, 'filename').text = synthatic_image_name + str(nam) +'.jpg'\n",
        "      ET.SubElement(root, 'path').text = saved_path +synthatic_image_name + str(nam) +'.jpg'\n",
        "\n",
        "\n",
        "      size = ET.SubElement(root, 'size')\n",
        "      ET.SubElement(size, 'width').text = str(width)\n",
        "      ET.SubElement(size, 'height').text = str(height)\n",
        "      ET.SubElement(size, 'depth').text = str(3)\n",
        "\n",
        "      ET.SubElement(root, 'segmented').text = '0'\n",
        "\n",
        "      #for box in rectangles:\n",
        "      name = \"actuator\"# class name\n",
        "\n",
        "      xmin = bbox[1] #set correct index\n",
        "      ymin = bbox[0] #set correct index\n",
        "      xmax = bbox[3]  #set correct index\n",
        "      ymax = bbox[2] #set correct index\n",
        "\n",
        "      obj = ET.SubElement(root, 'object')\n",
        "      ET.SubElement(obj, 'name').text = name\n",
        "      ET.SubElement(obj, 'pose').text = 'Unspecified'\n",
        "      ET.SubElement(obj, 'truncated').text = '0'\n",
        "      ET.SubElement(obj, 'occluded').text = '0'\n",
        "      ET.SubElement(obj, 'difficult').text = '0'\n",
        "\n",
        "      bx = ET.SubElement(obj, 'bndbox')\n",
        "      ET.SubElement(bx, 'xmin').text = str(xmin)\n",
        "      ET.SubElement(bx, 'ymin').text = str(ymin)\n",
        "      ET.SubElement(bx, 'xmax').text = str(xmax)\n",
        "      ET.SubElement(bx, 'ymax').text = str(ymax)\n",
        "\n",
        "\n",
        "      tree = ET.ElementTree(root)\n",
        "      tree.write((saved_path+\"/\" +synthatic_image_name + str(nam) +'.xml'))"
      ],
      "execution_count": null,
      "outputs": [
        {
          "output_type": "stream",
          "text": [
            "/usr/local/lib/python3.6/dist-packages/ipykernel_launcher.py:50: UserWarning: fname.jpg is a low contrast image\n",
            "/usr/local/lib/python3.6/dist-packages/ipykernel_launcher.py:61: UserWarning: mask_new.jpg is a low contrast image\n"
          ],
          "name": "stderr"
        }
      ]
    },
    {
      "cell_type": "code",
      "metadata": {
        "id": "jMphjob6FZTM"
      },
      "source": [
        ""
      ],
      "execution_count": null,
      "outputs": []
    }
  ]
}